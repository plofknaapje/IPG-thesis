{
 "cells": [
  {
   "cell_type": "code",
   "execution_count": 24,
   "metadata": {},
   "outputs": [],
   "source": [
    "import gurobipy as gp\n",
    "from gurobipy import GRB\n",
    "from itertools import product"
   ]
  },
  {
   "cell_type": "code",
   "execution_count": 7,
   "metadata": {},
   "outputs": [],
   "source": [
    "payoffs = [7, 3, 9, 9, 10, 7, 4, 2, 6, 2]\n",
    "costs = [4, 5, 9, 8, 4, 4, 6, 6, 2, 3]\n",
    "\n",
    "uncertain = [0, 1]\n",
    "certain = [2, 3, 4, 5, 6, 7, 8, 9]\n",
    "\n",
    "budget = 26\n",
    "delta = 1.05\n",
    "n = len(payoffs)"
   ]
  },
  {
   "cell_type": "code",
   "execution_count": 23,
   "metadata": {},
   "outputs": [
    {
     "name": "stdout",
     "output_type": "stream",
     "text": [
      "{0: <gurobi.Var *Awaiting Model Update*>, 1: <gurobi.Var *Awaiting Model Update*>, 2: <gurobi.Var *Awaiting Model Update*>, 3: <gurobi.Var *Awaiting Model Update*>, 4: <gurobi.Var *Awaiting Model Update*>, 5: <gurobi.Var *Awaiting Model Update*>, 6: <gurobi.Var *Awaiting Model Update*>, 7: <gurobi.Var *Awaiting Model Update*>, 8: <gurobi.Var *Awaiting Model Update*>, 9: <gurobi.Var *Awaiting Model Update*>}\n",
      "Gurobi Optimizer version 11.0.0 build v11.0.0rc2 (mac64[arm] - Darwin 23.1.0 23B92)\n",
      "\n",
      "CPU model: Apple M1 Pro\n",
      "Thread count: 10 physical cores, 10 logical processors, using up to 10 threads\n",
      "\n",
      "Optimize a model with 1 rows, 10 columns and 10 nonzeros\n",
      "Model fingerprint: 0xe721d358\n",
      "Variable types: 0 continuous, 10 integer (10 binary)\n",
      "Coefficient statistics:\n",
      "  Matrix range     [2e+00, 9e+00]\n",
      "  Objective range  [2e+00, 1e+01]\n",
      "  Bounds range     [1e+00, 1e+00]\n",
      "  RHS range        [3e+01, 3e+01]\n",
      "Found heuristic solution: objective 28.0000000\n",
      "Presolve removed 1 rows and 10 columns\n",
      "Presolve time: 0.00s\n",
      "Presolve: All rows and columns removed\n",
      "\n",
      "Explored 0 nodes (0 simplex iterations) in 0.00 seconds (0.00 work units)\n",
      "Thread count was 1 (of 10 available processors)\n",
      "\n",
      "Solution count 2: 41 28 \n",
      "\n",
      "Optimal solution found (tolerance 1.00e-04)\n",
      "Best objective 4.100000000000e+01, best bound 4.100000000000e+01, gap 0.0000%\n",
      "x[0] 1\n",
      "x[1] 0\n",
      "x[2] 0\n",
      "x[3] 1\n",
      "x[4] 1\n",
      "x[5] 1\n",
      "x[6] 0\n",
      "x[7] 0\n",
      "x[8] 1\n",
      "x[9] 1\n",
      "Budget used: 25.0\n",
      "Obj: 41\n"
     ]
    }
   ],
   "source": [
    "m = gp.Model(f\"RobustKP\")\n",
    "x = m.addVars(10, vtype=GRB.BINARY, name=\"x\")\n",
    "print(x)\n",
    "m.setObjective(gp.quicksum(payoffs[i] * x[i] for i in range(n)) , GRB.MAXIMIZE)\n",
    "m.addConstr(gp.quicksum(costs[i] * x[i] for i in range(n)) <= budget)\n",
    "\n",
    "m.optimize()\n",
    "\n",
    "for v in m.getVars():\n",
    "    print(f\"{v.VarName} {v.X:g}\")\n",
    "\n",
    "print(f\"Budget used: {sum(x[i].X * costs[i] for i in range(n))}\")\n",
    "\n",
    "print(f\"Obj: {m.ObjVal:g}\")"
   ]
  },
  {
   "cell_type": "code",
   "execution_count": 26,
   "metadata": {},
   "outputs": [
    {
     "name": "stdout",
     "output_type": "stream",
     "text": [
      "{0: <gurobi.Var *Awaiting Model Update*>, 1: <gurobi.Var *Awaiting Model Update*>, 2: <gurobi.Var *Awaiting Model Update*>, 3: <gurobi.Var *Awaiting Model Update*>, 4: <gurobi.Var *Awaiting Model Update*>, 5: <gurobi.Var *Awaiting Model Update*>, 6: <gurobi.Var *Awaiting Model Update*>, 7: <gurobi.Var *Awaiting Model Update*>, 8: <gurobi.Var *Awaiting Model Update*>, 9: <gurobi.Var *Awaiting Model Update*>}\n",
      "Gurobi Optimizer version 11.0.0 build v11.0.0rc2 (mac64[arm] - Darwin 23.1.0 23B92)\n",
      "\n",
      "CPU model: Apple M1 Pro\n",
      "Thread count: 10 physical cores, 10 logical processors, using up to 10 threads\n",
      "\n",
      "Optimize a model with 1 rows, 10 columns and 8 nonzeros\n",
      "Model fingerprint: 0xc9cf54f5\n",
      "Variable types: 0 continuous, 10 integer (10 binary)\n",
      "Coefficient statistics:\n",
      "  Matrix range     [2e+00, 9e+00]\n",
      "  Objective range  [2e+00, 1e+01]\n",
      "  Bounds range     [1e+00, 1e+00]\n",
      "  RHS range        [2e+01, 2e+01]\n",
      "Found heuristic solution: objective 28.0000000\n",
      "Presolve removed 1 rows and 10 columns\n",
      "Presolve time: 0.00s\n",
      "Presolve: All rows and columns removed\n",
      "\n",
      "Explored 0 nodes (0 simplex iterations) in 0.00 seconds (0.00 work units)\n",
      "Thread count was 1 (of 10 available processors)\n",
      "\n",
      "Solution count 2: 42 28 \n",
      "\n",
      "Optimal solution found (tolerance 1.00e-04)\n",
      "Best objective 4.200000000000e+01, best bound 4.200000000000e+01, gap 0.0000%\n",
      "x[0] 0\n",
      "x[1] 0\n",
      "x[2] 0\n",
      "x[3] 1\n",
      "x[4] 1\n",
      "x[5] 1\n",
      "x[6] 0\n",
      "x[7] 0\n",
      "x[8] 1\n",
      "x[9] 0\n",
      "(0, 0)\n",
      "Budget used: 18.0\n",
      "Payoff: 32.0\n",
      "(0, 1)\n",
      "Budget used: 23.0\n",
      "Payoff: 35.0\n",
      "(1, 0)\n",
      "Budget used: 22.0\n",
      "Payoff: 39.0\n",
      "(1, 1)\n",
      "Budget used: 27.0\n",
      "Payoff: 42.0\n",
      "Obj: 42\n"
     ]
    }
   ],
   "source": [
    "m = gp.Model(f\"RobustKP\")\n",
    "x = m.addVars(10, vtype=GRB.BINARY, name=\"x\")\n",
    "print(x)\n",
    "m.setObjective(gp.quicksum(payoffs[i] * x[i] for i in certain) + sum((payoffs[i] + abs(payoffs[i]))/2 for i in uncertain), GRB.MAXIMIZE)\n",
    "m.addConstr(gp.quicksum(costs[i]*x[i] for i in certain) + sum((costs[i] + abs(costs[i]))/2 for i in uncertain) <= budget * delta)\n",
    "\n",
    "m.optimize()\n",
    "\n",
    "for v in m.getVars():\n",
    "    print(f\"{v.VarName} {v.X:g}\")\n",
    "\n",
    "for uncertain_vars in product(range(2), repeat=len(uncertain)):\n",
    "    print(uncertain_vars)\n",
    "    print(f\"Budget used: {sum(costs[i]*x[i].X for i in certain) + sum(uncertain_vars[i] * costs[i] for i in uncertain)}\")\n",
    "    print(f\"Payoff: {sum(payoffs[i]*x[i].X for i in certain) + sum(uncertain_vars[i] * payoffs[i] for i in uncertain)}\")\n",
    "\n",
    "print(f\"Obj: {m.ObjVal:g}\")\n"
   ]
  }
 ],
 "metadata": {
  "kernelspec": {
   "display_name": "DSAI",
   "language": "python",
   "name": "python3"
  },
  "language_info": {
   "codemirror_mode": {
    "name": "ipython",
    "version": 3
   },
   "file_extension": ".py",
   "mimetype": "text/x-python",
   "name": "python",
   "nbconvert_exporter": "python",
   "pygments_lexer": "ipython3",
   "version": "3.11.3"
  }
 },
 "nbformat": 4,
 "nbformat_minor": 2
}
